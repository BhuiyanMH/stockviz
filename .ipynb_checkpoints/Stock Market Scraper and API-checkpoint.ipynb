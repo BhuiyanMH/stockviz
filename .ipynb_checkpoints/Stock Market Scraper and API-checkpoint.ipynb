{
 "cells": [
  {
   "cell_type": "code",
   "execution_count": 1,
   "metadata": {},
   "outputs": [],
   "source": [
    "import pandas as pd\n",
    "from bs4 import BeautifulSoup as bs\n",
    "import os.path\n",
    "from os import path\n",
    "import requests\n",
    "import unidecode\n",
    "import yfinance as yf\n",
    "from datetime import datetime"
   ]
  },
  {
   "cell_type": "markdown",
   "metadata": {},
   "source": [
    "# Merged Europe + China + USA"
   ]
  },
  {
   "cell_type": "code",
   "execution_count": 59,
   "metadata": {},
   "outputs": [],
   "source": [
    "x = pd.read_csv('data/european indexes.csv')"
   ]
  },
  {
   "cell_type": "code",
   "execution_count": 60,
   "metadata": {},
   "outputs": [],
   "source": [
    "l = list(x.id)\n",
    "l.append('BABA')\n",
    "l.append('ASC.L')\n",
    "l.append('ZAL.DE')"
   ]
  },
  {
   "cell_type": "code",
   "execution_count": 61,
   "metadata": {},
   "outputs": [],
   "source": [
    "df = pd.DataFrame()"
   ]
  },
  {
   "cell_type": "markdown",
   "metadata": {},
   "source": [
    "## Europe, China"
   ]
  },
  {
   "cell_type": "code",
   "execution_count": null,
   "metadata": {
    "scrolled": false
   },
   "outputs": [],
   "source": [
    "for ticker in l:\n",
    "    print(ticker)\n",
    "    t = yf.Ticker(ticker)\n",
    "    t_historical = t.history(start=\"2019-09-01\", end=\"2021-01-01\", interval=\"1d\")\n",
    "    t_historical.drop(columns = ['Dividends','Stock Splits'],inplace = True)\n",
    "    if 'sector' in t.info:\n",
    "        t_historical['Sector'] = t.info['sector']\n",
    "    else:\n",
    "        t_historical['Sector'] = ''\n",
    "    t_historical['Country'] = t.info['country']\n",
    "    t_historical['Company'] = t.info['longName']\n",
    "    name = t.info['longName']\n",
    "    alphanumeric = ''\n",
    "    if name.isalpha() == False:\n",
    "        for character in name:\n",
    "            if character.isalnum():\n",
    "                alphanumeric += character\n",
    "    for i,row in t_historical.iterrows():\n",
    "        if row['Country'] == 'China' or row['Country'] == 'Macau':\n",
    "            t_historical.at[i,'Open'] = t_historical.at[i,'Open']/7.75\n",
    "            t_historical.at[i,'High'] = t_historical.at[i,'High']/7.75\n",
    "            t_historical.at[i,'Close'] = t_historical.at[i,'Close']/7.75\n",
    "        elif row['Country'] == 'Taiwan':\n",
    "            t_historical.at[i,'Close'] = t_historical.at[i,'Close']/28.62\n",
    "            t_historical.at[i,'High'] = t_historical.at[i,'High']/28.62\n",
    "            t_historical.at[i,'Open'] = t_historical.at[i,'Open']/28.62\n",
    "        elif row['Country'] == 'Singapore':\n",
    "            t_historical.at[i,'Close'] = t_historical.at[i,'Close']/1.36\n",
    "            t_historical.at[i,'High'] = t_historical.at[i,'High']/1.36\n",
    "            t_historical.at[i,'Open'] = t_historical.at[i,'Open']/1.36\n",
    "        elif row['Country'] == 'South Korea':\n",
    "            t_historical.at[i,'Close'] = t_historical.at[i,'Close']/148.22\n",
    "            t_historical.at[i,'High'] = t_historical.at[i,'High']/148.22\n",
    "            t_historical.at[i,'Open'] = t_historical.at[i,'Open']/148.22\n",
    "        elif row['Country'] == 'United Kingdom':\n",
    "            t_historical.at[i,'Close'] = t_historical.at[i,'Close']/1.37\n",
    "            t_historical.at[i,'High'] = t_historical.at[i,'High']/1.37\n",
    "            t_historical.at[i,'Open'] = t_historical.at[i,'Open']/1.37\n",
    "        else:\n",
    "            t_historical.at[i,'Close'] = t_historical.at[i,'Close']/0.85\n",
    "            t_historical.at[i,'High'] = t_historical.at[i,'High']/0.85\n",
    "            t_historical.at[i,'Open'] = t_historical.at[i,'Open']/0.85\n",
    "    df = df.append(t_historical)"
   ]
  },
  {
   "cell_type": "code",
   "execution_count": 63,
   "metadata": {},
   "outputs": [],
   "source": [
    "df.reset_index(level = 0, inplace = True)"
   ]
  },
  {
   "cell_type": "code",
   "execution_count": 64,
   "metadata": {},
   "outputs": [],
   "source": [
    "df.to_csv('data/companies/companies_europe_asia.csv',index = False)"
   ]
  },
  {
   "cell_type": "markdown",
   "metadata": {},
   "source": [
    "## USA"
   ]
  },
  {
   "cell_type": "code",
   "execution_count": 22,
   "metadata": {},
   "outputs": [],
   "source": [
    "x = pd.read_csv('data/american_tickers.csv')\n",
    "l = list(x.id)"
   ]
  },
  {
   "cell_type": "code",
   "execution_count": 28,
   "metadata": {},
   "outputs": [],
   "source": [
    "df = pd.read_csv('data/companies/companies_europe_asia.csv')"
   ]
  },
  {
   "cell_type": "code",
   "execution_count": 23,
   "metadata": {},
   "outputs": [],
   "source": [
    "df1 = pd.DataFrame()"
   ]
  },
  {
   "cell_type": "code",
   "execution_count": null,
   "metadata": {
    "scrolled": false
   },
   "outputs": [],
   "source": [
    "i = 0\n",
    "for ticker in l:\n",
    "    i = i + 1\n",
    "    print(str(i) + ' - ' + ticker)\n",
    "    t = yf.Ticker(ticker)\n",
    "    t_historical = t.history(start=\"2019-09-01\", end=\"2021-01-01\", interval=\"1d\")\n",
    "    t_historical.drop(columns = ['Dividends','Stock Splits'],inplace = True)\n",
    "    if 'sector' in t.info:\n",
    "        t_historical['Sector'] = t.info['sector']\n",
    "    else:\n",
    "        t_historical['Sector'] = ''\n",
    "    t_historical['Country'] = t.info['country']\n",
    "    t_historical['Company'] = t.info['longName']\n",
    "    name = t.info['longName']\n",
    "    alphanumeric = ''\n",
    "    if name.isalpha() == False:\n",
    "        for character in name:\n",
    "            if character.isalnum():\n",
    "                alphanumeric += character\n",
    "    df1 = df1.append(t_historical)\n",
    "\n",
    "df1.reset_index(level = 0, inplace = True)\n",
    "df1['Date'] = df1['Date'].astype(str)"
   ]
  },
  {
   "cell_type": "code",
   "execution_count": 42,
   "metadata": {},
   "outputs": [],
   "source": [
    "df1.to_csv('data/companies/american_stocks.csv')"
   ]
  },
  {
   "cell_type": "code",
   "execution_count": 55,
   "metadata": {},
   "outputs": [],
   "source": [
    "df_final = df.append(df1)"
   ]
  },
  {
   "cell_type": "code",
   "execution_count": 60,
   "metadata": {},
   "outputs": [],
   "source": [
    "df_final.to_csv(\"data/companies/companies_stock_price_worldwide.csv\",index = False)"
   ]
  },
  {
   "cell_type": "markdown",
   "metadata": {},
   "source": [
    "# Overall indexes"
   ]
  },
  {
   "cell_type": "code",
   "execution_count": 3,
   "metadata": {},
   "outputs": [],
   "source": [
    "a = yf.Ticker('^GSPC').history(start=\"2019-09-01\", end=\"2021-01-01\", interval=\"1d\")\n",
    "\n",
    "a['Index'] = 'S&P 500'\n",
    "\n",
    "a.reset_index(level = 0, inplace = True)\n",
    "\n",
    "a.drop(['Dividends','Stock Splits'],axis = 1,inplace = True)\n",
    "\n",
    "b = pd.read_csv('data/backup_data/Euro Stoxx 50 Historical Data.csv')\n",
    "\n",
    "b['Index'] = 'STOXX 50 EU'\n",
    "\n",
    "b.rename(inplace = True, columns = {'Price':'Close'})\n",
    "b.rename(inplace = True, columns = {'Vol.':'Volume'})\n",
    "b.drop(columns = ['Change %'],inplace = True)\n",
    "b = b.reindex(columns = ['Date', 'Open', 'High', 'Low', 'Close', 'Volume', 'Index'])\n",
    "b['Date'] = pd.to_datetime(b['Date'])\n",
    "\n",
    "b = b.sort_values(by=['Date'])\n",
    "\n",
    "c = yf.Ticker('^HSI').history(start=\"2019-09-01\", end=\"2021-01-01\", interval=\"1d\")\n",
    "\n",
    "c['Index'] = 'Hang Sang'\n",
    "\n",
    "c.reset_index(level = 0, inplace = True)\n",
    "\n",
    "c.drop(['Dividends','Stock Splits'],axis = 1,inplace = True)\n",
    "\n",
    "c['High'] = c['High'] * 0.13\n",
    "c['Open'] = c['Open'] * 0.13\n",
    "c['Low'] = c['Low'] * 0.13\n",
    "c['Close'] = c['Close'] * 0.13\n",
    "\n",
    "\n",
    "df_stock = pd.DataFrame()\n",
    "df_stock = a.append(b)\n",
    "df_stock = df_stock.append(c)\n",
    "df_stock.to_csv('data/companies/compounded1.csv')"
   ]
  }
 ],
 "metadata": {
  "kernelspec": {
   "display_name": "Python 3",
   "language": "python",
   "name": "python3"
  },
  "language_info": {
   "codemirror_mode": {
    "name": "ipython",
    "version": 3
   },
   "file_extension": ".py",
   "mimetype": "text/x-python",
   "name": "python",
   "nbconvert_exporter": "python",
   "pygments_lexer": "ipython3",
   "version": "3.7.3"
  }
 },
 "nbformat": 4,
 "nbformat_minor": 2
}
