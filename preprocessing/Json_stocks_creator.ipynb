{
 "cells": [
  {
   "cell_type": "code",
   "execution_count": 1,
   "metadata": {},
   "outputs": [],
   "source": [
    "import pandas as pd\n",
    "import json\n",
    "from datetime import datetime\n",
    "import datetime\n",
    "import math\n",
    "from pandas.io.json import json_normalize #package for flattening json in pandas df\n"
   ]
  },
  {
   "cell_type": "code",
   "execution_count": 2,
   "metadata": {},
   "outputs": [],
   "source": [
    "csv = pd.read_csv(\"data/companies_stock_price_worldwide.csv\")"
   ]
  },
  {
   "cell_type": "code",
   "execution_count": 3,
   "metadata": {},
   "outputs": [],
   "source": [
    "dates = list(csv['Date'].unique())\n",
    "dates = pd.Series(dates)"
   ]
  },
  {
   "cell_type": "markdown",
   "metadata": {},
   "source": [
    "Preprocess the dataset"
   ]
  },
  {
   "cell_type": "code",
   "execution_count": 4,
   "metadata": {},
   "outputs": [],
   "source": [
    "def preprocess(csv):\n",
    "    csv = csv.drop_duplicates(subset = ['Date','Company'], keep = 'first')\n",
    "    list_companies = list(csv['Company'].unique())\n",
    "\n",
    "    l = []\n",
    "    for c in list_companies:\n",
    "        if len(csv.loc[csv['Company'] == c]) < 300:\n",
    "            csv = csv[csv['Company'] != c]\n",
    "    \n",
    "    csv = csv.loc[csv['Date'] != '2020-12-25']\n",
    "    csv = csv.loc[csv['Date'] != '2020-09-07']\n",
    "    csv = csv.loc[csv['Date'] != '2020-09-18']\n",
    "    csv = csv.loc[csv['Date'] != '2020-04-10']\n",
    "    csv = csv.loc[csv['Date'] != '2019-09-02']\n",
    "    csv = csv.loc[csv['Date'] != '2019-12-25']\n",
    "    csv = csv.loc[csv['Date'] != '2020-02-17']\n",
    "    csv = csv.loc[csv['Date'] != '2020-07-03']\n",
    "    csv = csv.loc[csv['Date'] != '2020-01-20']\n",
    "    csv = csv.loc[csv['Date'] != '2019-11-28']\n",
    "    csv = csv.loc[csv['Date'] != '2020-11-28']\n",
    "    csv = csv.loc[csv['Date'] != '2020-05-01']\n",
    "    csv = csv.loc[csv['Date'] != '2020-04-13']\n",
    "    csv = csv.loc[csv['Date'] != '2019-12-26']\n",
    "    csv = csv.loc[csv['Date'] != '2020-12-26']\n",
    "    csv = csv.loc[csv['Date'] != '2020-05-25']\n",
    "    csv = csv.loc[csv['Date'] != '2019-12-24']\n",
    "    csv = csv.loc[csv['Date'] != '2019-12-31']\n",
    "    csv = csv.loc[csv['Date'] != '2020-12-24']\n",
    "    csv = csv.loc[csv['Date'] != '2020-12-31']\n",
    "    csv = csv.loc[csv['Date'] != '2020-07-20']\n",
    "    return csv"
   ]
  },
  {
   "cell_type": "markdown",
   "metadata": {},
   "source": [
    "Add dates array to a dictionary"
   ]
  },
  {
   "cell_type": "code",
   "execution_count": 5,
   "metadata": {},
   "outputs": [],
   "source": [
    "def add_dates_to_dict(j,csv):\n",
    "    dates = list(csv['Date'].unique())\n",
    "\n",
    "    # Sort the dates\n",
    "    dates = pd.Series(dates)\n",
    "    dates = pd.to_datetime(dates)\n",
    "    dates = dates.sort_values()\n",
    "\n",
    "    # Create the object array\n",
    "    obj_dates = {}\n",
    "    for i in range(len(dates)):\n",
    "        obj_dates[i] = str(dates[i]).split(' ')[0]\n",
    "\n",
    "    # Add it to the json structure    \n",
    "    j['dates'] = obj_dates\n",
    "    return j"
   ]
  },
  {
   "cell_type": "markdown",
   "metadata": {},
   "source": [
    "Adds sector array to a dictionary"
   ]
  },
  {
   "cell_type": "code",
   "execution_count": 6,
   "metadata": {},
   "outputs": [],
   "source": [
    "def add_sectors_to_dict(j,csv):\n",
    "    list_sectors = list(csv['Sector'].unique())\n",
    "    sec_list = []\n",
    "    for sect in list_sectors:\n",
    "        sec = {'name':sect, 'companies': []}\n",
    "        sec['companies'] = add_companies_to_dict(j,csv.loc[csv['Sector'] == sect])\n",
    "        print(str(len(sec['companies'])) + 'companies add in ' + sect)\n",
    "        sec_list.append(sec)\n",
    "    j['sectors'] = sec_list\n",
    "    return j"
   ]
  },
  {
   "cell_type": "markdown",
   "metadata": {},
   "source": [
    "Add a company stock to an array of companies"
   ]
  },
  {
   "cell_type": "code",
   "execution_count": 7,
   "metadata": {},
   "outputs": [],
   "source": [
    "def add_company_to_dict(j,csv,c):\n",
    "    whole_dates = pd.DataFrame()\n",
    "    present_dates = pd.DataFrame()\n",
    "    # Takes the the date set\n",
    "    whole_dates['date'] = j['dates'].values()\n",
    "    present_dates['date'] = csv['Date']\n",
    "    missed_dates = list(whole_dates.loc[~whole_dates['date'].isin(present_dates['date'])]['date'])\n",
    "    #add missing stock dates\n",
    "    new_rows = pd.DataFrame(columns = csv.columns)\n",
    "    new_rows['Date'] = missed_dates\n",
    "    new_rows['Open'] = float('Inf')\n",
    "    csv = csv.append(new_rows)\n",
    "    csv['Date'] = pd.to_datetime(csv['Date'])\n",
    "    csv = csv.sort_values(by = 'Date')\n",
    "    csv = csv.reset_index(drop = True)\n",
    "    for i,row in csv.iterrows():\n",
    "        if math.isinf(row['Open']):\n",
    "            csv.iloc[i,1] = csv.iloc[i-1,1]\n",
    "            csv.iloc[i,2] = csv.iloc[i-1,2]\n",
    "            csv.iloc[i,3] = csv.iloc[i-1,3]\n",
    "            csv.iloc[i,4] = csv.iloc[i-1,4]\n",
    "            csv.iloc[i,5] = csv.iloc[i-1,5]\n",
    "            csv.iloc[i,6] = csv.iloc[i-1,6]\n",
    "            csv.iloc[i,7] = csv.iloc[i-1,7]\n",
    "            csv.iloc[i,8] = csv.iloc[i-1,8]\n",
    "    # Create the company object\n",
    "    company_obj = {}\n",
    "    company_obj['name'] = c\n",
    "    company_obj['stock'] = list(csv['Close'])\n",
    "    return company_obj"
   ]
  },
  {
   "cell_type": "markdown",
   "metadata": {},
   "source": [
    "Add companies to each sector dictionary"
   ]
  },
  {
   "cell_type": "code",
   "execution_count": 8,
   "metadata": {},
   "outputs": [],
   "source": [
    "def add_companies_to_dict(j,csv):\n",
    "    list_companies = list(csv['Company'].unique())\n",
    "    companies_list = []\n",
    "    for c in list_companies:\n",
    "        csv_company = csv.loc[csv['Company'] == c]\n",
    "        companies_list.append(add_company_to_dict(j,csv_company,c))\n",
    "    return companies_list"
   ]
  },
  {
   "cell_type": "markdown",
   "metadata": {},
   "source": [
    "Create the dictionary"
   ]
  },
  {
   "cell_type": "code",
   "execution_count": 9,
   "metadata": {},
   "outputs": [],
   "source": [
    "def dict_creator(csv):\n",
    "    j = {\n",
    "        'name' : 'stock market', \n",
    "        'sectors':[], \n",
    "        'dates': []} \n",
    "    j = add_dates_to_dict(j,csv)\n",
    "    j = add_sectors_to_dict(j,csv)\n",
    "    return j"
   ]
  },
  {
   "cell_type": "markdown",
   "metadata": {},
   "source": [
    "Main process"
   ]
  },
  {
   "cell_type": "code",
   "execution_count": 10,
   "metadata": {
    "scrolled": false
   },
   "outputs": [
    {
     "name": "stdout",
     "output_type": "stream",
     "text": [
      "88companies add in Financial Services\n",
      "80companies add in Technology\n",
      "29companies add in Communication Services\n",
      "33companies add in Utilities\n",
      "30companies add in Energy\n",
      "77companies add in Consumer Cyclical\n",
      "28companies add in Basic Materials\n",
      "41companies add in Consumer Defensive\n",
      "68companies add in Healthcare\n",
      "78companies add in Industrials\n",
      "35companies add in Real Estate\n"
     ]
    }
   ],
   "source": [
    "# Prepare and create the json\n",
    "prep_csv = preprocess(csv)\n",
    "js = dict_creator(prep_csv)\n",
    "#json_object = json.dumps(js, indent = 4) \n",
    "\n",
    "# Writing to sample.json \n",
    "#with open(\"sample.json\", \"w\") as outfile: \n",
    "#    outfile.write(json_object) \n"
   ]
  },
  {
   "cell_type": "code",
   "execution_count": 11,
   "metadata": {},
   "outputs": [],
   "source": [
    "# Back to df and save as csv\n",
    "df = pd.DataFrame()\n",
    "sectors = js['sectors']\n",
    "for el in sectors:\n",
    "    for comp in el['companies']:\n",
    "        temp = pd.DataFrame()\n",
    "        temp['date'] = list(js['dates'].values())\n",
    "        temp['stock'] = comp['stock']\n",
    "        temp['company'] = comp['name']\n",
    "        df = df.append(temp)\n",
    "df = df.reset_index(drop = True)\n",
    "df.to_csv('./data/companies/comp.csv',index = False, sep = '\\t')"
   ]
  },
  {
   "cell_type": "code",
   "execution_count": null,
   "metadata": {},
   "outputs": [],
   "source": []
  }
 ],
 "metadata": {
  "kernelspec": {
   "display_name": "Python 3",
   "language": "python",
   "name": "python3"
  },
  "language_info": {
   "codemirror_mode": {
    "name": "ipython",
    "version": 3
   },
   "file_extension": ".py",
   "mimetype": "text/x-python",
   "name": "python",
   "nbconvert_exporter": "python",
   "pygments_lexer": "ipython3",
   "version": "3.7.3"
  }
 },
 "nbformat": 4,
 "nbformat_minor": 2
}
