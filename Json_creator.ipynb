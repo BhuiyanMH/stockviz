{
 "cells": [
  {
   "cell_type": "code",
   "execution_count": 8,
   "metadata": {},
   "outputs": [],
   "source": [
    "import pandas as pd\n",
    "import json"
   ]
  },
  {
   "cell_type": "code",
   "execution_count": 9,
   "metadata": {},
   "outputs": [],
   "source": [
    "csv = pd.read_csv(\"data\\\\companies_stock_price_worldwide.csv\")"
   ]
  },
  {
   "cell_type": "code",
   "execution_count": 10,
   "metadata": {},
   "outputs": [],
   "source": [
    "list_sectors = list(csv['Sector'].unique())"
   ]
  },
  {
   "cell_type": "code",
   "execution_count": 11,
   "metadata": {},
   "outputs": [],
   "source": [
    "list_companies = list(csv['Company'].unique())"
   ]
  },
  {
   "cell_type": "code",
   "execution_count": 12,
   "metadata": {},
   "outputs": [],
   "source": [
    "ex_comp = []\n",
    "for c in list_companies:\n",
    "    x = csv.loc[csv['Company'] == c]\n",
    "    ex_comp.append(x.iloc[0,:])"
   ]
  },
  {
   "cell_type": "code",
   "execution_count": 13,
   "metadata": {},
   "outputs": [],
   "source": [
    "obj = {\"name\": \"Sectors\",\n",
    "      'children':[]}\n",
    "for sec in list_sectors:\n",
    "    sec_obj = {}\n",
    "    sec_obj['name'] = sec\n",
    "    sec_obj['children'] = []\n",
    "    obj['children'].append(sec_obj)\n",
    "    "
   ]
  },
  {
   "cell_type": "code",
   "execution_count": 14,
   "metadata": {},
   "outputs": [],
   "source": [
    "def add_to_list(company, obj):\n",
    "    # Save the sector of the company\n",
    "    for sector in obj['children']:\n",
    "        if sector['name'] == company['Sector']:\n",
    "            sector['children'].append({'name': company['Company'],'value':1})\n",
    "    return obj"
   ]
  },
  {
   "cell_type": "code",
   "execution_count": 15,
   "metadata": {},
   "outputs": [],
   "source": [
    "ex_comp = []\n",
    "for c in list_companies:\n",
    "    x = csv.loc[csv['Company'] == c]\n",
    "    ex_comp.append(x.iloc[0,:])"
   ]
  },
  {
   "cell_type": "code",
   "execution_count": 16,
   "metadata": {},
   "outputs": [],
   "source": [
    "for x in ex_comp:\n",
    "    add_to_list(x, obj)"
   ]
  },
  {
   "cell_type": "code",
   "execution_count": 84,
   "metadata": {},
   "outputs": [],
   "source": [
    "jsonStr = json.dumps(obj)\n",
    "with open('personal.json', 'w') as json_file:\n",
    "    json.dump(jsonStr, json_file)"
   ]
  }
 ],
 "metadata": {
  "kernelspec": {
   "display_name": "Python 3",
   "language": "python",
   "name": "python3"
  },
  "language_info": {
   "codemirror_mode": {
    "name": "ipython",
    "version": 3
   },
   "file_extension": ".py",
   "mimetype": "text/x-python",
   "name": "python",
   "nbconvert_exporter": "python",
   "pygments_lexer": "ipython3",
   "version": "3.7.3"
  }
 },
 "nbformat": 4,
 "nbformat_minor": 2
}
